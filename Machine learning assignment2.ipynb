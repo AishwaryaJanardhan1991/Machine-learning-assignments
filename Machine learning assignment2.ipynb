{
 "cells": [
  {
   "cell_type": "code",
   "execution_count": 145,
   "id": "9a339b8d-b838-4b20-b097-3503df71b257",
   "metadata": {},
   "outputs": [],
   "source": [
    "import pandas as pd\n",
    "import numpy as np\n",
    "import matplotlib.pyplot as plt\n",
    "import seaborn as sns\n",
    "from sklearn.preprocessing import LabelEncoder, OneHotEncoder, StandardScaler,MinMaxScaler "
   ]
  },
  {
   "cell_type": "markdown",
   "id": "54707f69-70cb-4a4e-838c-798bd7f12dd5",
   "metadata": {},
   "source": [
    "# loading data"
   ]
  },
  {
   "cell_type": "code",
   "execution_count": 146,
   "id": "def59534-83f4-44d5-9000-862b345cf8b4",
   "metadata": {},
   "outputs": [],
   "source": [
    "df = pd.read_csv('https://drive.google.com/uc?id=1F3lRf32JM8ejnXq-Cbf9y7fa57zSHGz_')"
   ]
  },
  {
   "cell_type": "code",
   "execution_count": 148,
   "id": "19adad84-fe0c-458d-8b13-599b061f8872",
   "metadata": {},
   "outputs": [
    {
     "name": "stdout",
     "output_type": "stream",
     "text": [
      "<class 'pandas.core.frame.DataFrame'>\n",
      "RangeIndex: 148 entries, 0 to 147\n",
      "Data columns (total 6 columns):\n",
      " #   Column   Non-Null Count  Dtype  \n",
      "---  ------   --------------  -----  \n",
      " 0   Company  140 non-null    object \n",
      " 1   Age      130 non-null    float64\n",
      " 2   Salary   124 non-null    float64\n",
      " 3   Place    134 non-null    object \n",
      " 4   Country  148 non-null    object \n",
      " 5   Gender   148 non-null    int64  \n",
      "dtypes: float64(2), int64(1), object(3)\n",
      "memory usage: 7.1+ KB\n"
     ]
    }
   ],
   "source": [
    "df.info()"
   ]
  },
  {
   "cell_type": "code",
   "execution_count": 150,
   "id": "ba91b969-9e26-4018-92fc-d533c2d0f829",
   "metadata": {},
   "outputs": [
    {
     "data": {
      "text/html": [
       "<div>\n",
       "<style scoped>\n",
       "    .dataframe tbody tr th:only-of-type {\n",
       "        vertical-align: middle;\n",
       "    }\n",
       "\n",
       "    .dataframe tbody tr th {\n",
       "        vertical-align: top;\n",
       "    }\n",
       "\n",
       "    .dataframe thead th {\n",
       "        text-align: right;\n",
       "    }\n",
       "</style>\n",
       "<table border=\"1\" class=\"dataframe\">\n",
       "  <thead>\n",
       "    <tr style=\"text-align: right;\">\n",
       "      <th></th>\n",
       "      <th>Company</th>\n",
       "      <th>Age</th>\n",
       "      <th>Salary</th>\n",
       "      <th>Place</th>\n",
       "      <th>Country</th>\n",
       "      <th>Gender</th>\n",
       "    </tr>\n",
       "  </thead>\n",
       "  <tbody>\n",
       "    <tr>\n",
       "      <th>0</th>\n",
       "      <td>TCS</td>\n",
       "      <td>20.0</td>\n",
       "      <td>NaN</td>\n",
       "      <td>Chennai</td>\n",
       "      <td>India</td>\n",
       "      <td>0</td>\n",
       "    </tr>\n",
       "    <tr>\n",
       "      <th>1</th>\n",
       "      <td>Infosys</td>\n",
       "      <td>30.0</td>\n",
       "      <td>NaN</td>\n",
       "      <td>Mumbai</td>\n",
       "      <td>India</td>\n",
       "      <td>0</td>\n",
       "    </tr>\n",
       "    <tr>\n",
       "      <th>2</th>\n",
       "      <td>TCS</td>\n",
       "      <td>35.0</td>\n",
       "      <td>2300.0</td>\n",
       "      <td>Calcutta</td>\n",
       "      <td>India</td>\n",
       "      <td>0</td>\n",
       "    </tr>\n",
       "    <tr>\n",
       "      <th>3</th>\n",
       "      <td>Infosys</td>\n",
       "      <td>40.0</td>\n",
       "      <td>3000.0</td>\n",
       "      <td>Delhi</td>\n",
       "      <td>India</td>\n",
       "      <td>0</td>\n",
       "    </tr>\n",
       "    <tr>\n",
       "      <th>4</th>\n",
       "      <td>TCS</td>\n",
       "      <td>23.0</td>\n",
       "      <td>4000.0</td>\n",
       "      <td>Mumbai</td>\n",
       "      <td>India</td>\n",
       "      <td>0</td>\n",
       "    </tr>\n",
       "  </tbody>\n",
       "</table>\n",
       "</div>"
      ],
      "text/plain": [
       "   Company   Age  Salary     Place Country  Gender\n",
       "0      TCS  20.0     NaN   Chennai   India       0\n",
       "1  Infosys  30.0     NaN    Mumbai   India       0\n",
       "2      TCS  35.0  2300.0  Calcutta   India       0\n",
       "3  Infosys  40.0  3000.0     Delhi   India       0\n",
       "4      TCS  23.0  4000.0    Mumbai   India       0"
      ]
     },
     "execution_count": 150,
     "metadata": {},
     "output_type": "execute_result"
    }
   ],
   "source": [
    "df.head(5)"
   ]
  },
  {
   "cell_type": "code",
   "execution_count": 151,
   "id": "ef2d4e66-ca44-4661-ad2f-0eebf7bc04f6",
   "metadata": {},
   "outputs": [
    {
     "data": {
      "text/plain": [
       "Company     8\n",
       "Age        18\n",
       "Salary     24\n",
       "Place      14\n",
       "Country     0\n",
       "Gender      0\n",
       "dtype: int64"
      ]
     },
     "execution_count": 151,
     "metadata": {},
     "output_type": "execute_result"
    }
   ],
   "source": [
    "df.isnull().sum()"
   ]
  },
  {
   "cell_type": "markdown",
   "id": "d99ea4c7-ea6f-4bb5-8068-978e1dca46ca",
   "metadata": {},
   "source": [
    "# 1. Data Exploration"
   ]
  },
  {
   "cell_type": "code",
   "execution_count": 152,
   "id": "6451e351-2c71-4e71-b253-7cb94d001e55",
   "metadata": {
    "scrolled": true
   },
   "outputs": [
    {
     "name": "stdout",
     "output_type": "stream",
     "text": [
      "feature: Company\n",
      "Unique values (2): ['TCS' 'Infosys' 'CTS' nan 'Tata Consultancy Services' 'Congnizant'\n",
      " 'Infosys Pvt Lmt']\n",
      "feature: Age\n",
      "Unique values (2): [20. 30. 35. 40. 23. nan 34. 45. 18. 22. 32. 37. 50. 21. 46. 36. 26. 41.\n",
      " 24. 25. 43. 19. 38. 51. 31. 44. 33. 17.  0. 54.]\n",
      "feature: Salary\n",
      "Unique values (2): [  nan 2300. 3000. 4000. 5000. 6000. 7000. 8000. 9000. 1089. 1234. 3030.\n",
      " 3045. 3184. 4824. 5835. 7084. 8943. 8345. 9284. 9876. 2034. 7654. 2934.\n",
      " 4034. 5034. 8202. 9024. 4345. 6544. 6543. 3234. 4324. 5435. 5555. 8787.\n",
      " 3454. 5654. 5009. 5098. 3033.]\n",
      "feature: Place\n",
      "Unique values (2): ['Chennai' 'Mumbai' 'Calcutta' 'Delhi' 'Podicherry' 'Cochin' nan 'Noida'\n",
      " 'Hyderabad' 'Bhopal' 'Nagpur' 'Pune']\n",
      "feature: Country\n",
      "Unique values (2): ['India']\n",
      "feature: Gender\n",
      "Unique values (2): [0 1]\n",
      "statistical Summary : \n",
      "       Company         Age       Salary   Place Country      Gender\n",
      "count      140  130.000000   124.000000     134     148  148.000000\n",
      "unique       6         NaN          NaN      11       1         NaN\n",
      "top        TCS         NaN          NaN  Mumbai   India         NaN\n",
      "freq        53         NaN          NaN      37     148         NaN\n",
      "mean       NaN   30.484615  5312.467742     NaN     NaN    0.222973\n",
      "std        NaN   11.096640  2573.764683     NaN     NaN    0.417654\n",
      "min        NaN    0.000000  1089.000000     NaN     NaN    0.000000\n",
      "25%        NaN   22.000000  3030.000000     NaN     NaN    0.000000\n",
      "50%        NaN   32.500000  5000.000000     NaN     NaN    0.000000\n",
      "75%        NaN   37.750000  8000.000000     NaN     NaN    0.000000\n",
      "max        NaN   54.000000  9876.000000     NaN     NaN    1.000000\n",
      "Renamed columns: Index(['company', 'age', 'salary', 'place', 'country', 'gender'], dtype='object')\n"
     ]
    }
   ],
   "source": [
    "# listing down unique values in each feature and their length\n",
    "for column in df.columns:\n",
    "    unique_val = df[column].unique()\n",
    "    print(f\"feature: {column}\")\n",
    "    print(f\"Unique values ({len(unique_vals)}): {unique_val}\")\n",
    "\n",
    "# statistical analysis\n",
    "print(\"statistical Summary : \")\n",
    "print(df.describe(include = 'all'))\n",
    "# renaming the column\n",
    "df.columns = df.columns.str.strip().str.lower().str.replace(' ','_')\n",
    "print(\"Renamed columns:\", df.columns)"
   ]
  },
  {
   "cell_type": "markdown",
   "id": "0fc1de70-70c5-4550-94ab-20d999080a80",
   "metadata": {},
   "source": [
    "# 2. Data cleaning"
   ]
  },
  {
   "cell_type": "code",
   "execution_count": 154,
   "id": "4d460cf7-493a-4a6c-94f3-924f55b4591d",
   "metadata": {},
   "outputs": [
    {
     "name": "stdout",
     "output_type": "stream",
     "text": [
      "Missing values before cleaning: company     8\n",
      "age        18\n",
      "salary     24\n",
      "place      14\n",
      "country     0\n",
      "gender      0\n",
      "dtype: int64\n",
      "Missing values after replacing 0 with NaN: company     8\n",
      "age        24\n",
      "salary     24\n",
      "place      14\n",
      "country     0\n",
      "gender      0\n",
      "dtype: int64\n"
     ]
    }
   ],
   "source": [
    "# checking for missing values\n",
    "print(\"Missing values before cleaning:\", df.isnull().sum())\n",
    "# replacing with 0 in age column (age)\n",
    "df['age'] = df['age'].replace(0,np.nan)\n",
    "# checking after replacement\n",
    "print (\"Missing values after replacing 0 with NaN:\",df.isnull().sum())"
   ]
  },
  {
   "cell_type": "code",
   "execution_count": 155,
   "id": "5553d49d-a6a1-43e8-8d51-63253b76ea99",
   "metadata": {},
   "outputs": [],
   "source": [
    "# Removing duplicate values(rows)\n",
    "df = df.drop_duplicates()"
   ]
  },
  {
   "cell_type": "code",
   "execution_count": 161,
   "id": "1b4e8a12-fd4e-4e80-b9dc-108e6a335b3a",
   "metadata": {},
   "outputs": [
    {
     "name": "stdout",
     "output_type": "stream",
     "text": [
      "\n",
      "Outliers in age: 0\n",
      "\n",
      "Outliers in salary: 0\n",
      "\n",
      "Outliers in gender: 32\n"
     ]
    }
   ],
   "source": [
    "# Treat missing values\n",
    "# Numerical columns: fill with mean or median\n",
    "num_cols = df.select_dtypes(include=['int64', 'float64']).columns\n",
    "num_cols = df.select_dtypes(include=['int64', 'float64']).columns\n",
    "for col in num_cols:\n",
    "    median_val = df[col].median()\n",
    "    data[col] = df[col].fillna(median_val)\n",
    "\n",
    "# Categorical columns: fill with mode\n",
    "cat_cols = df.select_dtypes(include=['object']).columns\n",
    "for col in cat_cols:\n",
    "    mode_val = df[col].mode()[0]\n",
    "    data[col] = df[col].fillna(mode_val)\n",
    "\n",
    "# Find outliers using IQR method\n",
    "for col in num_cols:\n",
    "    Q1 = df[col].quantile(0.25)\n",
    "    Q3 = df[col].quantile(0.75)\n",
    "    IQR = Q3 - Q1\n",
    "    outliers = df[(data[col] < (Q1 - 1.5 * IQR)) | (df[col] > (Q3 + 1.5 * IQR))]\n",
    "    print(f\"\\nOutliers in {col}: {outliers.shape[0]}\")"
   ]
  },
  {
   "cell_type": "markdown",
   "id": "c9f186a7-7a19-4273-8abc-dd7a414cdf23",
   "metadata": {},
   "source": [
    "# 3. Data Analysis"
   ]
  },
  {
   "cell_type": "code",
   "execution_count": 167,
   "id": "9ea010d2-4d86-437e-bb79-d15e8207bc3e",
   "metadata": {},
   "outputs": [
    {
     "data": {
      "image/png": "[encoded data removed]",
      "text/plain": [
       "<Figure size 800x500 with 1 Axes>"
      ]
     },
     "metadata": {},
     "output_type": "display_data"
    },
    {
     "data": {
      "image/png": "[encoded data removed]",
      "text/plain": [
       "<Figure size 800x500 with 1 Axes>"
      ]
     },
     "metadata": {},
     "output_type": "display_data"
    }
   ],
   "source": [
    "# filter:Age> 40 and salary<5000\n",
    "filtered_data = df[(df['age']> 40) & (df['salary'] < 5000)]\n",
    "\n",
    "# Age Vs Salary(plot)\n",
    "plt.figure(figsize = (8,5))\n",
    "sns.scatterplot(x=filtered_data['age'], y=filtered_data['salary'])\n",
    "plt.title('Age vs Salary(Age > 40 & Salary < 5000)')\n",
    "plt.xlabel('Age')\n",
    "plt.ylabel('Salary')\n",
    "plt.show()\n",
    "\n",
    "place_counts = df['place'].value_counts()\n",
    "\n",
    "# bar plot for count and place\n",
    "plt.figure(figsize = (8,5))\n",
    "sns.barplot(x=place_counts.index, y = place_counts.values)\n",
    "plt.xticks(rotation=45)\n",
    "plt.title('Number of people from each place')\n",
    "plt.xlabel('place')\n",
    "plt.ylabel('count')\n",
    "plt.show()           "
   ]
  },
  {
   "cell_type": "markdown",
   "id": "368d56f1-b8f0-4fde-89de-82583899b056",
   "metadata": {},
   "source": [
    "# 4. Data Encoding"
   ]
  },
  {
   "cell_type": "code",
   "execution_count": 168,
   "id": "f3f7a33e-3dbe-4ddb-ada4-67042d1fdb02",
   "metadata": {},
   "outputs": [
    {
     "name": "stdout",
     "output_type": "stream",
     "text": [
      "Data after Encoding:\n",
      "   company   age  salary  place  country  gender\n",
      "0        4  20.0  5000.0      2        0       0\n",
      "1        2  30.0  5000.0      6        0       0\n",
      "2        4  35.0  2300.0      1        0       0\n",
      "3        2  40.0  3000.0      4        0       0\n",
      "4        4  23.0  4000.0      6        0       0\n"
     ]
    }
   ],
   "source": [
    "#label encoding for simple categorical columns\n",
    "label_enc = LabelEncoder()\n",
    "for col in cat_cols:\n",
    "    df[col] = label_enc.fit_transform(df[col])\n",
    "print(\"Data after Encoding:\")\n",
    "print(df.head())"
   ]
  },
  {
   "cell_type": "markdown",
   "id": "8ee0ff12-b9a1-4fc1-97e9-d2fda29aacb9",
   "metadata": {},
   "source": [
    "# 5. Feature Scaling"
   ]
  },
  {
   "cell_type": "code",
   "execution_count": 169,
   "id": "64d6986e-63c0-493a-b36a-f664529642c1",
   "metadata": {},
   "outputs": [
    {
     "name": "stdout",
     "output_type": "stream",
     "text": [
      "Standard Scaled data Sample:     company       age    salary     place  country    gender\n",
      "0  0.991489 -1.484676 -0.100827 -0.893255      0.0 -0.534522\n",
      "1 -0.239325 -0.267174 -0.100827  0.750562      0.0 -0.534522\n",
      "2  0.991489  0.341577 -1.243735 -1.304209      0.0 -0.534522\n",
      "3 -0.239325  0.950328 -0.947426 -0.071346      0.0 -0.534522\n",
      "4  0.991489 -1.119426 -0.524127  0.750562      0.0 -0.534522\n",
      "Minmax Scaled Data Sample:    company       age    salary  place  country  gender\n",
      "0      0.8  0.081081  0.445089    0.2      0.0     0.0\n",
      "1      0.4  0.351351  0.445089    0.6      0.0     0.0\n",
      "2      0.8  0.486486  0.137817    0.1      0.0     0.0\n",
      "3      0.4  0.621622  0.217480    0.4      0.0     0.0\n",
      "4      0.8  0.162162  0.331285    0.6      0.0     0.0\n"
     ]
    }
   ],
   "source": [
    "standard_scaler =  StandardScaler()\n",
    "data_standard_scaled = pd.DataFrame(standard_scaler.fit_transform(df), columns= df.columns)\n",
    "\n",
    "minmax_scaler =  MinMaxScaler()\n",
    "data_minmax_scaled = pd.DataFrame(minmax_scaler.fit_transform(df), columns = df.columns)\n",
    "\n",
    "print(\"Standard Scaled data Sample:\", data_standard_scaled.head())\n",
    "print(\"Minmax Scaled Data Sample:\", data_minmax_scaled.head())                                       "
   ]
  }
 ],
 "metadata": {
  "kernelspec": {
   "display_name": "Python 3 (ipykernel)",
   "language": "python",
   "name": "python3"
  },
  "language_info": {
   "codemirror_mode": {
    "name": "ipython",
    "version": 3
   },
   "file_extension": ".py",
   "mimetype": "text/x-python",
   "name": "python",
   "nbconvert_exporter": "python",
   "pygments_lexer": "ipython3",
   "version": "3.12.7"
  }
 },
 "nbformat": 4,
 "nbformat_minor": 5
}
